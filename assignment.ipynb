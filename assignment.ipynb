{
 "cells": [
  {
   "cell_type": "markdown",
   "metadata": {},
   "source": [
    "# 1\n",
    "Model an organisation of employees, management and board of directors in 3 sets.\n",
    "\n",
    "Board of directors: Benny, Hans, Tine, Mille, Torben, Troels, Søren\n",
    "\n",
    "Management: Tine, Trunte, Rane\n",
    "\n",
    "Employees: Niels, Anna, Tine, Ole, Trunte, Bent, Rane, Allan, Stine, Claus, James, Lars\n",
    "\n",
    "\n",
    "\n",
    "who in the board of directors is not an employee?\n",
    "\n",
    "who in the board of directors is also an employee?\n",
    "\n",
    "how many of the management is also member of the board?\n",
    "\n",
    "All members of the managent also an employee?\n",
    "\n",
    "All members of the management also in the board?\n",
    "\n",
    "Who is an employee, member of the management, and a member of the board?\n",
    "\n",
    "Who of the employee is neither a memeber or the board or management?"
   ]
  },
  {
   "cell_type": "code",
   "execution_count": 326,
   "metadata": {},
   "outputs": [
    {
     "name": "stdout",
     "output_type": "stream",
     "text": [
      "{'Mille', 'Benny', 'Troels', 'Torben', 'Hans', 'Søren'}\n",
      "{'Tine'}\n",
      "1\n",
      "{'Rane', 'Tine', 'Trunte'}\n",
      "{'Tine'}\n",
      "{'Tine'}\n",
      "{'Anna', 'Claus', 'Bent', 'Ole', 'Stine', 'Niels', 'Lars', 'Allan', 'James'}\n"
     ]
    }
   ],
   "source": [
    "boardOfDirectors = {\"Benny\", \"Hans\", \"Tine\", \"Mille\", \"Torben\", \"Troels\", \"Søren\"}\n",
    "management = {\"Tine\", \"Trunte\", \"Rane\"}\n",
    "employees = {\"Niels\", \"Anna\", \"Tine\", \"Ole\", \"Trunte\", \"Bent\", \"Rane\", \"Allan\", \"Stine\", \"Claus\", \"James\", \"Lars\"}\n",
    "\n",
    "boardOfDirectorsNotAnEmployee = boardOfDirectors - employees\n",
    "print(boardOfDirectorsNotAnEmployee)\n",
    "\n",
    "boardOfDirectorsAlsoEmployee = boardOfDirectors.intersection(employees)\n",
    "print(boardOfDirectorsAlsoEmployee)\n",
    "\n",
    "managementAlsoBoardOfDirectors = management.intersection(boardOfDirectors)\n",
    "print(len(managementAlsoBoardOfDirectors))\n",
    "\n",
    "managementAlsoEmployee = management.intersection(employees)\n",
    "print(managementAlsoEmployee)\n",
    "\n",
    "print(managementAlsoBoardOfDirectors)\n",
    "\n",
    "employeeAndManagementAndBoardOfDirectors = employees.intersection(management, boardOfDirectors)\n",
    "print(employeeAndManagementAndBoardOfDirectors)\n",
    "\n",
    "employeesNotManagementNotBoardOfDirectors = employees - management - boardOfDirectors\n",
    "print(employeesNotManagementNotBoardOfDirectors)"
   ]
  },
  {
   "cell_type": "markdown",
   "metadata": {},
   "source": [
    "# 2\n",
    "\n",
    "Create a list of tuples from the folowing datastructure\n",
    "\n",
    "{‘a’: ‘Alpha’, ‘b’ : ‘Beta’, ‘g’: ‘Gamma’}"
   ]
  },
  {
   "cell_type": "code",
   "execution_count": 327,
   "metadata": {},
   "outputs": [
    {
     "name": "stdout",
     "output_type": "stream",
     "text": [
      "[('a', 'Alpha'), ('b', 'Beta'), ('g', 'Gamma')]\n"
     ]
    }
   ],
   "source": [
    "listOfTuples = [('a', 'Alpha'), ('b', 'Beta'), ('g', 'Gamma')]\n",
    "print(listOfTuples)"
   ]
  },
  {
   "cell_type": "markdown",
   "metadata": {},
   "source": [
    "# 3\n",
    "\n",
    "\n",
    "From these 2 sets:\n",
    "\n",
    "{'a', 'e', 'i', 'o', 'u', 'y'}\n",
    "\n",
    "{'a', 'e', 'i', 'o', 'u', 'y', 'æ' ,'ø', 'å'}\n",
    "\n",
    "Create a:\n",
    "\n",
    "Union\n",
    "\n",
    "Symmetric Difference\n",
    "\n",
    "Difference\n",
    "\n",
    "disjoint\n",
    "\n",
    "You should provide the solutions both using:\n",
    "\n",
    "Set methods ( like: S1.union(S2) or S1.add(x)  ), and\n",
    "\n",
    "Set oprators ( like: S1|S2 or S1&S2)\n",
    "\n",
    "So all solutions has to be solved twice. "
   ]
  },
  {
   "cell_type": "code",
   "execution_count": 328,
   "metadata": {},
   "outputs": [
    {
     "name": "stdout",
     "output_type": "stream",
     "text": [
      "{'ø', 'y', 'i', 'å', 'u', 'a', 'æ', 'o', 'e'}\n",
      "{'ø', 'y', 'i', 'å', 'u', 'a', 'æ', 'o', 'e'}\n",
      "{'å', 'ø', 'æ'}\n",
      "{'å', 'ø', 'æ'}\n",
      "{'å', 'ø', 'æ'}\n",
      "{'å', 'ø', 'æ'}\n",
      "{'y', 'i', 'u', 'a', 'o', 'e'}\n",
      "{'y', 'i', 'u', 'a', 'o', 'e'}\n"
     ]
    }
   ],
   "source": [
    "setShort = {'a', 'e', 'i', 'o', 'u', 'y'}\n",
    "setLong = {'a', 'e', 'i', 'o', 'u', 'y', 'æ' ,'ø', 'å'}\n",
    "\n",
    "unionMethod = setShort.union(setLong)\n",
    "unionOperator = setShort|setLong\n",
    "print(unionMethod)\n",
    "print(unionOperator)\n",
    "\n",
    "symmetricDifferenceMethod = setLong.symmetric_difference(setShort)\n",
    "symmetricDifferenceOperator = setLong ^ setShort\n",
    "print(symmetricDifferenceMethod)\n",
    "print(symmetricDifferenceOperator)\n",
    "\n",
    "differenceMethod = setLong.difference(setShort)\n",
    "differenceOperator = setLong - setShort\n",
    "print(differenceMethod)\n",
    "print(differenceOperator)\n",
    "\n",
    "disJointMethod = setShort.intersection(setLong)\n",
    "disJointOperator = setShort & setLong\n",
    "print(disJointMethod)\n",
    "print(disJointOperator)\n"
   ]
  },
  {
   "cell_type": "markdown",
   "metadata": {},
   "source": [
    "# 4 Date Decoder.\n",
    "A date of the form 8-MAR-85 includes the name of the month, which must be translated to a number.\n",
    "\n",
    "Create a dict suitable for decoding month names to numbers.\n",
    "\n",
    "Create a function which uses string operations to split the date into 3 items using the \"-\" character.\n",
    "\n",
    "Translate the month, correct the year to include all of the digits.\n",
    "\n",
    " \n",
    "\n",
    "The function will accept a date in the \"dd-MMM-yy\" format and respond with a tuple of ( y , m , d )."
   ]
  },
  {
   "cell_type": "code",
   "execution_count": 329,
   "metadata": {},
   "outputs": [
    {
     "name": "stdout",
     "output_type": "stream",
     "text": [
      "('1991', '01', '25')\n"
     ]
    }
   ],
   "source": [
    "monthDict = {\n",
    "    \"JAN\": 1,\n",
    "    \"FEB\": 2,\n",
    "    \"MAR\": 3,\n",
    "    \"APR\": 4,\n",
    "    \"MAY\": 5,\n",
    "    \"JUN\": 6,\n",
    "    \"JUL\": 7,\n",
    "    \"AUG\": 8,\n",
    "    \"SEP\": 9,\n",
    "    \"OCT\": 10,\n",
    "    \"NOV\": 11,\n",
    "    \"DEC\": 12\n",
    "}\n",
    "\n",
    "def splitDate(string):\n",
    "    dateSplit = string.split(\"-\")\n",
    "\n",
    "    day = dateSplit[0]\n",
    "    month = monthDict[dateSplit[1]]\n",
    "\n",
    "    if int(dateSplit[2]) < 50:\n",
    "        year = \"20\" + dateSplit[2]\n",
    "    else:\n",
    "        year = \"19\" + dateSplit[2]\n",
    "\n",
    "    return (year, str(month).zfill(2), str(day).zfill(2))\n",
    "\n",
    "print(splitDate(\"25-JAN-91\"))\n"
   ]
  },
  {
   "cell_type": "markdown",
   "metadata": {},
   "source": [
    "# 5\n",
    "Party exercise\n",
    "\n",
    "\n",
    "You are organizing a party and have two lists of friends. One list contains the friends you have invited, and the other list contains the friends who have RSVP'd.\n",
    "\n",
    "\n",
    "You want to find out who has not RSVP'd, who was not invited but RSVP'd, and who are common in both lists.\n",
    "\n",
    "Task: Write a Python program that takes two sets of names, one set containing the names of friends invited to the party and another set containing the names of friends who have RSVP'd.\n",
    "\n",
    "The program should then print out the names of friends who have not RSVP'd, the names of friends who were not invited but RSVP'd, and the names of friends who are common in both lists (i.e., invited and RSVP'd)."
   ]
  },
  {
   "cell_type": "code",
   "execution_count": 330,
   "metadata": {},
   "outputs": [
    {
     "name": "stdout",
     "output_type": "stream",
     "text": [
      "{'Jesper', 'Anna', 'Mikkel'}\n",
      "{'Jesper', 'Anna', 'Mikkel'}\n",
      "{'Anders', 'Jens', 'Mette'}\n",
      "{'Anders', 'Jens', 'Mette'}\n",
      "{'Nina', 'Maria', 'Sofie', 'Lars'}\n",
      "{'Nina', 'Maria', 'Sofie', 'Lars'}\n"
     ]
    }
   ],
   "source": [
    "invited_friends = {\"Lars\", \"Anna\", \"Nina\", \"Mikkel\", \"Sofie\", \"Jesper\", \"Maria\"}\n",
    "\n",
    "rsvp_friends = {\"Lars\", \"Nina\", \"Sofie\", \"Jens\", \"Mette\", \"Anders\", \"Maria\"}\n",
    "\n",
    "invitedFriendsNotRsvpdMethod = invited_friends.difference(rsvp_friends)\n",
    "invitedFriendsNotRsvpdOperator = invited_friends - rsvp_friends\n",
    "print(invitedFriendsNotRsvpdMethod)\n",
    "print(invitedFriendsNotRsvpdOperator)\n",
    "\n",
    "notInvitedButRsvpdMethod = rsvp_friends.difference(invited_friends)\n",
    "notInvitedButRsvpdOperator = rsvp_friends - invited_friends\n",
    "print(notInvitedButRsvpdMethod)\n",
    "print(notInvitedButRsvpdOperator)\n",
    "\n",
    "invitedFriendsAndRsvpdMethod = invited_friends.intersection(rsvp_friends)\n",
    "invitedFriendsAndRsvpdOperator = invited_friends & rsvp_friends\n",
    "print(invitedFriendsAndRsvpdMethod)\n",
    "print(invitedFriendsAndRsvpdOperator)\n",
    "\n",
    "\n"
   ]
  },
  {
   "cell_type": "markdown",
   "metadata": {},
   "source": [
    "# 6\n",
    "You are a teacher and have a dictionary containing the names of your students as keys and their grades as values.\n",
    "\n",
    "\n",
    "You want to update the grades of some students and then print out the names of all students who have a grade higher than 85.\n",
    "\n",
    "\n",
    "Task: Write a Python program that takes a dictionary of students and their grades, updates the grades of specific students, and then prints out the names of all students who have a grade higher than 85."
   ]
  },
  {
   "cell_type": "code",
   "execution_count": 331,
   "metadata": {},
   "outputs": [
    {
     "name": "stdout",
     "output_type": "stream",
     "text": [
      "{'Sebastian': 100, 'Marcus': 100, 'Tommy': 86, 'Daniel': 90}\n",
      "{'Sebastian': 100, 'Marcus': 100, 'Tommy': 84, 'Daniel': 90}\n",
      "Sebastian\n",
      "Marcus\n",
      "Daniel\n"
     ]
    }
   ],
   "source": [
    "studentDict = {\n",
    "    \"Sebastian\": 100,\n",
    "    \"Marcus\": 100,\n",
    "    \"Tommy\": 86,\n",
    "    \"Daniel\": 90\n",
    "}\n",
    "\n",
    "print(studentDict)\n",
    "\n",
    "\n",
    "studentDictUpdate = {\n",
    "    \"Tommy\": 84\n",
    "}\n",
    "\n",
    "\n",
    "\n",
    "def updateStudents(students, studentsUpdate):\n",
    "    students.update(studentsUpdate)\n",
    "\n",
    "    print(students)\n",
    "    \n",
    "    for student, grade in students.items():\n",
    "        if grade > 85:\n",
    "            print(student)\n",
    "\n",
    "\n",
    "\n",
    "\n",
    "updateStudents(studentDict, studentDictUpdate)\n",
    "\n",
    "\n",
    "\n"
   ]
  }
 ],
 "metadata": {
  "kernelspec": {
   "display_name": "Python 3",
   "language": "python",
   "name": "python3"
  },
  "language_info": {
   "codemirror_mode": {
    "name": "ipython",
    "version": 3
   },
   "file_extension": ".py",
   "mimetype": "text/x-python",
   "name": "python",
   "nbconvert_exporter": "python",
   "pygments_lexer": "ipython3",
   "version": "3.11.4"
  },
  "orig_nbformat": 4
 },
 "nbformat": 4,
 "nbformat_minor": 2
}
